{
 "cells": [
  {
   "cell_type": "code",
   "execution_count": 105,
   "metadata": {},
   "outputs": [],
   "source": [
    "import os\n",
    "from PIL import Image\n",
    "import numpy as np\n",
    "import matplotlib.pyplot as plt\n"
   ]
  },
  {
   "cell_type": "code",
   "execution_count": 106,
   "metadata": {},
   "outputs": [],
   "source": [
    "image_data  = []\n",
    "image_labels = []\n",
    "\n",
    "# we have 0 - 42 image classes in the dataset\n",
    "IMAGE_CLASSES = 43\n",
    "\n",
    "#  get image path for pre-processing training data.\n",
    "DATA_PATH = './trafficsigns'"
   ]
  },
  {
   "cell_type": "code",
   "execution_count": 107,
   "metadata": {},
   "outputs": [],
   "source": [
    "# Resizing the images to 50x50 as suggested its more suitable in task description\n",
    "IMAGE_WIDTH = 50\n",
    "IMAGE_HEIGHT = 50\n",
    "\n",
    "# Looping through the folder to store the images and respective labels into image and label lists\n",
    "for i in range(IMAGE_CLASSES):\n",
    "  path = os.path.join(DATA_PATH, 'train', str(i))\n",
    "  images = os.listdir(path)\n",
    "  for j in images:\n",
    "    try:\n",
    "      image = Image.open(path + '/' + j)\n",
    "      image = image.resize((IMAGE_HEIGHT,IMAGE_WIDTH))\n",
    "      image = np.array(image)\n",
    "      image_data.append(image)\n",
    "      image_labels.append(i)\n",
    "    except Exception as e:\n",
    "      print(e)"
   ]
  },
  {
   "cell_type": "code",
   "execution_count": 108,
   "metadata": {},
   "outputs": [
    {
     "name": "stdout",
     "output_type": "stream",
     "text": [
      "(39209, 50, 50, 3)\n",
      "(39209,)\n"
     ]
    }
   ],
   "source": [
    "# Convert image and label data to single dimensional numpy arrays for processing\n",
    "image_data = np.array(image_data)\n",
    "image_labels = np.array(image_labels)\n",
    "\n",
    "print (image_data.shape)\n",
    "print (image_labels.shape)"
   ]
  },
  {
   "cell_type": "code",
   "execution_count": 109,
   "metadata": {},
   "outputs": [],
   "source": [
    "from sklearn.model_selection import train_test_split\n",
    "from sklearn.metrics import accuracy_score\n",
    "from keras.optimizers import Adam\n",
    "from keras.utils import to_categorical\n",
    "from keras.models import Sequential, load_model\n",
    "from keras.layers import Conv2D, MaxPool2D, Dense, Flatten, Dropout"
   ]
  },
  {
   "cell_type": "code",
   "execution_count": 110,
   "metadata": {},
   "outputs": [
    {
     "name": "stdout",
     "output_type": "stream",
     "text": [
      "(31367, 50, 50, 3) (7842, 50, 50, 3) (31367,) (7842,)\n"
     ]
    }
   ],
   "source": [
    "X_train, X_test, y_train, y_test = train_test_split(image_data, image_labels, test_size=0.2, random_state=7, shuffle=True)\n",
    "\n",
    "# Normalize the images by dividing by 255 to get ranges of pixel from 0 - 1\n",
    "X_train = X_train/255\n",
    "X_test = X_test/255\n",
    "\n",
    "print(X_train.shape, X_test.shape, y_train.shape, y_test.shape)"
   ]
  },
  {
   "cell_type": "code",
   "execution_count": 111,
   "metadata": {},
   "outputs": [],
   "source": [
    "# Change labels to one hot encoding to make sure a value if larger than the other so it create a binary represnetation of values to improve accurracy.\n",
    "\n",
    "y_test = to_categorical(y_test, IMAGE_CLASSES)\n",
    "y_train = to_categorical(y_train, IMAGE_CLASSES)\n"
   ]
  },
  {
   "cell_type": "code",
   "execution_count": 113,
   "metadata": {},
   "outputs": [],
   "source": [
    "# Build a CNN Model\n",
    "\n",
    "cnn_model = Sequential()\n",
    "cnn_model.add(Conv2D(filters=32, kernel_size=(3,3), activation='relu', input_shape=(IMAGE_WIDTH, IMAGE_HEIGHT, 3)))\n",
    "cnn_model.add(MaxPool2D(pool_size=(2,2)))\n",
    "cnn_model.add(Dropout(rate=0.25))\n",
    "\n",
    "cnn_model.add(Conv2D(filters=64, kernel_size=(3,3), activation='relu'))\n",
    "cnn_model.add(MaxPool2D(pool_size=(2,2)))\n",
    "cnn_model.add(Dropout(rate=0.25))\n",
    "\n",
    "cnn_model.add(Conv2D(filters=128, kernel_size=(3,3), activation='relu'))\n",
    "cnn_model.add(MaxPool2D(pool_size=(2,2)))\n",
    "cnn_model.add(Dropout(rate=0.25))\n",
    "\n",
    "cnn_model.add(Flatten())\n",
    "cnn_model.add(Dense(256, activation='relu'))\n",
    "cnn_model.add(Dropout(rate=0.5))\n",
    "\n",
    "\n",
    "cnn_model.add(Dense(IMAGE_CLASSES, activation='softmax'))\n",
    "\n",
    "\n"
   ]
  },
  {
   "cell_type": "code",
   "execution_count": 114,
   "metadata": {},
   "outputs": [],
   "source": [
    "cnn_model.compile(loss='categorical_crossentropy', optimizer='adam', metrics=['accuracy'])\n"
   ]
  },
  {
   "cell_type": "code",
   "execution_count": 115,
   "metadata": {},
   "outputs": [
    {
     "name": "stdout",
     "output_type": "stream",
     "text": [
      "Epoch 1/20\n",
      "981/981 [==============================] - 35s 35ms/step - loss: 2.4545 - accuracy: 0.3179 - val_loss: 0.3516 - val_accuracy: 0.8931\n",
      "Epoch 2/20\n",
      "981/981 [==============================] - 34s 34ms/step - loss: 0.4523 - accuracy: 0.8500 - val_loss: 0.0873 - val_accuracy: 0.9799\n",
      "Epoch 3/20\n",
      "981/981 [==============================] - 33s 34ms/step - loss: 0.2094 - accuracy: 0.9337 - val_loss: 0.0468 - val_accuracy: 0.9908\n",
      "Epoch 4/20\n",
      "981/981 [==============================] - 34s 34ms/step - loss: 0.1398 - accuracy: 0.9576 - val_loss: 0.0355 - val_accuracy: 0.9903\n",
      "Epoch 5/20\n",
      "981/981 [==============================] - 34s 35ms/step - loss: 0.1109 - accuracy: 0.9652 - val_loss: 0.0225 - val_accuracy: 0.9931\n",
      "Epoch 6/20\n",
      "981/981 [==============================] - 34s 35ms/step - loss: 0.0901 - accuracy: 0.9717 - val_loss: 0.0174 - val_accuracy: 0.9953\n",
      "Epoch 7/20\n",
      "981/981 [==============================] - 34s 35ms/step - loss: 0.0756 - accuracy: 0.9761 - val_loss: 0.0219 - val_accuracy: 0.9935\n",
      "Epoch 8/20\n",
      "981/981 [==============================] - 34s 35ms/step - loss: 0.0796 - accuracy: 0.9754 - val_loss: 0.0141 - val_accuracy: 0.9957\n",
      "Epoch 9/20\n",
      "981/981 [==============================] - 35s 36ms/step - loss: 0.0631 - accuracy: 0.9808 - val_loss: 0.0153 - val_accuracy: 0.9964\n",
      "Epoch 10/20\n",
      "981/981 [==============================] - 35s 36ms/step - loss: 0.0659 - accuracy: 0.9807 - val_loss: 0.0100 - val_accuracy: 0.9974\n",
      "Epoch 11/20\n",
      "981/981 [==============================] - 35s 35ms/step - loss: 0.0577 - accuracy: 0.9834 - val_loss: 0.0147 - val_accuracy: 0.9955\n",
      "Epoch 12/20\n",
      "981/981 [==============================] - 34s 35ms/step - loss: 0.0510 - accuracy: 0.9838 - val_loss: 0.0120 - val_accuracy: 0.9959\n",
      "Epoch 13/20\n",
      "981/981 [==============================] - 34s 35ms/step - loss: 0.0538 - accuracy: 0.9842 - val_loss: 0.0179 - val_accuracy: 0.9950\n",
      "Epoch 14/20\n",
      "981/981 [==============================] - 34s 35ms/step - loss: 0.0445 - accuracy: 0.9858 - val_loss: 0.0108 - val_accuracy: 0.9968\n",
      "Epoch 15/20\n",
      "981/981 [==============================] - 34s 35ms/step - loss: 0.0446 - accuracy: 0.9864 - val_loss: 0.0093 - val_accuracy: 0.9973\n",
      "Epoch 16/20\n",
      "981/981 [==============================] - 34s 34ms/step - loss: 0.0472 - accuracy: 0.9865 - val_loss: 0.0129 - val_accuracy: 0.9960\n",
      "Epoch 17/20\n",
      "981/981 [==============================] - 34s 35ms/step - loss: 0.0522 - accuracy: 0.9857 - val_loss: 0.0092 - val_accuracy: 0.9972\n",
      "Epoch 18/20\n",
      "981/981 [==============================] - 34s 35ms/step - loss: 0.0448 - accuracy: 0.9868 - val_loss: 0.0104 - val_accuracy: 0.9969\n",
      "Epoch 19/20\n",
      "981/981 [==============================] - 35s 36ms/step - loss: 0.0408 - accuracy: 0.9890 - val_loss: 0.0074 - val_accuracy: 0.9981\n",
      "Epoch 20/20\n",
      "981/981 [==============================] - 34s 35ms/step - loss: 0.0483 - accuracy: 0.9862 - val_loss: 0.0087 - val_accuracy: 0.9978\n"
     ]
    }
   ],
   "source": [
    "history = cnn_model.fit(X_train, y_train, batch_size=32, epochs=20, validation_data=(X_test, y_test))\n"
   ]
  },
  {
   "cell_type": "code",
   "execution_count": 116,
   "metadata": {},
   "outputs": [
    {
     "name": "stdout",
     "output_type": "stream",
     "text": [
      "246/246 [==============================] - 3s 12ms/step - loss: 0.0087 - accuracy: 0.9978\n"
     ]
    },
    {
     "data": {
      "text/plain": [
       "[0.008666825480759144, 0.997832179069519]"
      ]
     },
     "execution_count": 116,
     "metadata": {},
     "output_type": "execute_result"
    }
   ],
   "source": [
    "cnn_model.evaluate(X_test, y_test)"
   ]
  },
  {
   "cell_type": "code",
   "execution_count": 117,
   "metadata": {},
   "outputs": [
    {
     "data": {
      "image/png": "[encoded data removed]",
      "text/plain": [
       "<Figure size 432x288 with 1 Axes>"
      ]
     },
     "metadata": {
      "needs_background": "light"
     },
     "output_type": "display_data"
    }
   ],
   "source": [
    "# Plot accuracy graph \n",
    "\n",
    "plt.plot(history.history['accuracy'], label='training accuracy')\n",
    "plt.plot(history.history['val_accuracy'], label='val accuracy')\n",
    "plt.title('Accuracy')\n",
    "plt.xlabel('epochs')\n",
    "plt.ylabel('accuracy')\n",
    "plt.legend()\n",
    "plt.show()\n"
   ]
  },
  {
   "cell_type": "code",
   "execution_count": 118,
   "metadata": {},
   "outputs": [
    {
     "data": {
      "image/png": "[encoded data removed]",
      "text/plain": [
       "<Figure size 432x288 with 1 Axes>"
      ]
     },
     "metadata": {
      "needs_background": "light"
     },
     "output_type": "display_data"
    }
   ],
   "source": [
    "# Plot Loss graphs\n",
    "\n",
    "plt.plot(history.history['loss'], label='training loss')\n",
    "plt.plot(history.history['val_loss'], label='val loss')\n",
    "plt.title('Loss')\n",
    "plt.xlabel('epochs')\n",
    "plt.ylabel('loss')\n",
    "plt.legend()\n",
    "plt.show()"
   ]
  },
  {
   "cell_type": "code",
   "execution_count": null,
   "metadata": {},
   "outputs": [],
   "source": []
  }
 ],
 "metadata": {
  "interpreter": {
   "hash": "5d3878fddc9c46165445784a10b090b010bb1a0b9835785e50e8f56ead986c33"
  },
  "kernelspec": {
   "display_name": "Python 3.8.12 ('base')",
   "language": "python",
   "name": "python3"
  },
  "language_info": {
   "codemirror_mode": {
    "name": "ipython",
    "version": 3
   },
   "file_extension": ".py",
   "mimetype": "text/x-python",
   "name": "python",
   "nbconvert_exporter": "python",
   "pygments_lexer": "ipython3",
   "version": "3.8.12"
  },
  "orig_nbformat": 4
 },
 "nbformat": 4,
 "nbformat_minor": 2
}
